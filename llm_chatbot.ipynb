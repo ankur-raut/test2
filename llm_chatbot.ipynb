{
 "cells": [
  {
   "cell_type": "markdown",
   "source": [
    "## This notebook has streamlit implementation of chatbot over private documents.\n",
    "### The key differences between simple Q&A over private docs and this project is\n",
    "### 1. We use refine query to complete incomplete queries given by user based on the context and document\n",
    "### 2. We use chat_history to remember previous answers and store them to memory buffer window for further use.\n",
    "## To run this app simply activate venv and run \"streamlit run [file_path_of_main.py]\" in terminal"
   ],
   "metadata": {
    "collapsed": false,
    "pycharm": {
     "name": "#%% md\n"
    }
   }
  },
  {
   "cell_type": "markdown",
   "source": [
    "## Prerequisites:\n",
    "### Install langchain, and chromadb"
   ],
   "metadata": {
    "collapsed": false,
    "pycharm": {
     "name": "#%% md\n"
    }
   }
  },
  {
   "cell_type": "markdown",
   "source": [
    "### This is page 1 of streamlit app (main.py)"
   ],
   "metadata": {
    "collapsed": false,
    "pycharm": {
     "name": "#%% md\n"
    }
   }
  },
  {
   "cell_type": "code",
   "execution_count": 3,
   "outputs": [
    {
     "ename": "AttributeError",
     "evalue": "module 'lib' has no attribute 'X509_V_FLAG_CB_ISSUER_CHECK'",
     "output_type": "error",
     "traceback": [
      "\u001B[1;31m---------------------------------------------------------------------------\u001B[0m",
      "\u001B[1;31mAttributeError\u001B[0m                            Traceback (most recent call last)",
      "Cell \u001B[1;32mIn [3], line 3\u001B[0m\n\u001B[0;32m      1\u001B[0m \u001B[38;5;66;03m# import and install the libraries\u001B[39;00m\n\u001B[0;32m      2\u001B[0m \u001B[38;5;28;01mfrom\u001B[39;00m \u001B[38;5;21;01mPyPDF2\u001B[39;00m \u001B[38;5;28;01mimport\u001B[39;00m PdfReader\n\u001B[1;32m----> 3\u001B[0m \u001B[38;5;28;01mfrom\u001B[39;00m \u001B[38;5;21;01mlangchain\u001B[39;00m \u001B[38;5;28;01mimport\u001B[39;00m OpenAI\n\u001B[0;32m      4\u001B[0m \u001B[38;5;28;01mfrom\u001B[39;00m \u001B[38;5;21;01mlangchain\u001B[39;00m\u001B[38;5;21;01m.\u001B[39;00m\u001B[38;5;21;01mdocument_loaders\u001B[39;00m \u001B[38;5;28;01mimport\u001B[39;00m TextLoader, PyPDFLoader\n\u001B[0;32m      5\u001B[0m \u001B[38;5;28;01mfrom\u001B[39;00m \u001B[38;5;21;01mlangchain\u001B[39;00m\u001B[38;5;21;01m.\u001B[39;00m\u001B[38;5;21;01membeddings\u001B[39;00m \u001B[38;5;28;01mimport\u001B[39;00m OpenAIEmbeddings, CohereEmbeddings\n",
      "File \u001B[1;32m~\\AppData\\Local\\Programs\\Python\\Python310\\lib\\site-packages\\langchain\\__init__.py:6\u001B[0m\n\u001B[0;32m      3\u001B[0m \u001B[38;5;28;01mfrom\u001B[39;00m \u001B[38;5;21;01mimportlib\u001B[39;00m \u001B[38;5;28;01mimport\u001B[39;00m metadata\n\u001B[0;32m      4\u001B[0m \u001B[38;5;28;01mfrom\u001B[39;00m \u001B[38;5;21;01mtyping\u001B[39;00m \u001B[38;5;28;01mimport\u001B[39;00m Optional\n\u001B[1;32m----> 6\u001B[0m \u001B[38;5;28;01mfrom\u001B[39;00m \u001B[38;5;21;01mlangchain\u001B[39;00m\u001B[38;5;21;01m.\u001B[39;00m\u001B[38;5;21;01magents\u001B[39;00m \u001B[38;5;28;01mimport\u001B[39;00m MRKLChain, ReActChain, SelfAskWithSearchChain\n\u001B[0;32m      7\u001B[0m \u001B[38;5;28;01mfrom\u001B[39;00m \u001B[38;5;21;01mlangchain\u001B[39;00m\u001B[38;5;21;01m.\u001B[39;00m\u001B[38;5;21;01mcache\u001B[39;00m \u001B[38;5;28;01mimport\u001B[39;00m BaseCache\n\u001B[0;32m      8\u001B[0m \u001B[38;5;28;01mfrom\u001B[39;00m \u001B[38;5;21;01mlangchain\u001B[39;00m\u001B[38;5;21;01m.\u001B[39;00m\u001B[38;5;21;01mchains\u001B[39;00m \u001B[38;5;28;01mimport\u001B[39;00m (\n\u001B[0;32m      9\u001B[0m     ConversationChain,\n\u001B[0;32m     10\u001B[0m     LLMBashChain,\n\u001B[1;32m   (...)\u001B[0m\n\u001B[0;32m     18\u001B[0m     VectorDBQAWithSourcesChain,\n\u001B[0;32m     19\u001B[0m )\n",
      "File \u001B[1;32m~\\AppData\\Local\\Programs\\Python\\Python310\\lib\\site-packages\\langchain\\agents\\__init__.py:10\u001B[0m\n\u001B[0;32m      1\u001B[0m \u001B[38;5;124;03m\"\"\"Interface for agents.\"\"\"\u001B[39;00m\n\u001B[0;32m      2\u001B[0m \u001B[38;5;28;01mfrom\u001B[39;00m \u001B[38;5;21;01mlangchain\u001B[39;00m\u001B[38;5;21;01m.\u001B[39;00m\u001B[38;5;21;01magents\u001B[39;00m\u001B[38;5;21;01m.\u001B[39;00m\u001B[38;5;21;01magent\u001B[39;00m \u001B[38;5;28;01mimport\u001B[39;00m (\n\u001B[0;32m      3\u001B[0m     Agent,\n\u001B[0;32m      4\u001B[0m     AgentExecutor,\n\u001B[1;32m   (...)\u001B[0m\n\u001B[0;32m      8\u001B[0m     LLMSingleActionAgent,\n\u001B[0;32m      9\u001B[0m )\n\u001B[1;32m---> 10\u001B[0m \u001B[38;5;28;01mfrom\u001B[39;00m \u001B[38;5;21;01mlangchain\u001B[39;00m\u001B[38;5;21;01m.\u001B[39;00m\u001B[38;5;21;01magents\u001B[39;00m\u001B[38;5;21;01m.\u001B[39;00m\u001B[38;5;21;01magent_toolkits\u001B[39;00m \u001B[38;5;28;01mimport\u001B[39;00m (\n\u001B[0;32m     11\u001B[0m     create_csv_agent,\n\u001B[0;32m     12\u001B[0m     create_json_agent,\n\u001B[0;32m     13\u001B[0m     create_openapi_agent,\n\u001B[0;32m     14\u001B[0m     create_pandas_dataframe_agent,\n\u001B[0;32m     15\u001B[0m     create_pbi_agent,\n\u001B[0;32m     16\u001B[0m     create_pbi_chat_agent,\n\u001B[0;32m     17\u001B[0m     create_spark_dataframe_agent,\n\u001B[0;32m     18\u001B[0m     create_spark_sql_agent,\n\u001B[0;32m     19\u001B[0m     create_sql_agent,\n\u001B[0;32m     20\u001B[0m     create_vectorstore_agent,\n\u001B[0;32m     21\u001B[0m     create_vectorstore_router_agent,\n\u001B[0;32m     22\u001B[0m )\n\u001B[0;32m     23\u001B[0m \u001B[38;5;28;01mfrom\u001B[39;00m \u001B[38;5;21;01mlangchain\u001B[39;00m\u001B[38;5;21;01m.\u001B[39;00m\u001B[38;5;21;01magents\u001B[39;00m\u001B[38;5;21;01m.\u001B[39;00m\u001B[38;5;21;01magent_types\u001B[39;00m \u001B[38;5;28;01mimport\u001B[39;00m AgentType\n\u001B[0;32m     24\u001B[0m \u001B[38;5;28;01mfrom\u001B[39;00m \u001B[38;5;21;01mlangchain\u001B[39;00m\u001B[38;5;21;01m.\u001B[39;00m\u001B[38;5;21;01magents\u001B[39;00m\u001B[38;5;21;01m.\u001B[39;00m\u001B[38;5;21;01mconversational\u001B[39;00m\u001B[38;5;21;01m.\u001B[39;00m\u001B[38;5;21;01mbase\u001B[39;00m \u001B[38;5;28;01mimport\u001B[39;00m ConversationalAgent\n",
      "File \u001B[1;32m~\\AppData\\Local\\Programs\\Python\\Python310\\lib\\site-packages\\langchain\\agents\\agent_toolkits\\__init__.py:3\u001B[0m\n\u001B[0;32m      1\u001B[0m \u001B[38;5;124;03m\"\"\"Agent toolkits.\"\"\"\u001B[39;00m\n\u001B[1;32m----> 3\u001B[0m \u001B[38;5;28;01mfrom\u001B[39;00m \u001B[38;5;21;01mlangchain\u001B[39;00m\u001B[38;5;21;01m.\u001B[39;00m\u001B[38;5;21;01magents\u001B[39;00m\u001B[38;5;21;01m.\u001B[39;00m\u001B[38;5;21;01magent_toolkits\u001B[39;00m\u001B[38;5;21;01m.\u001B[39;00m\u001B[38;5;21;01mazure_cognitive_services\u001B[39;00m\u001B[38;5;21;01m.\u001B[39;00m\u001B[38;5;21;01mtoolkit\u001B[39;00m \u001B[38;5;28;01mimport\u001B[39;00m (\n\u001B[0;32m      4\u001B[0m     AzureCognitiveServicesToolkit,\n\u001B[0;32m      5\u001B[0m )\n\u001B[0;32m      6\u001B[0m \u001B[38;5;28;01mfrom\u001B[39;00m \u001B[38;5;21;01mlangchain\u001B[39;00m\u001B[38;5;21;01m.\u001B[39;00m\u001B[38;5;21;01magents\u001B[39;00m\u001B[38;5;21;01m.\u001B[39;00m\u001B[38;5;21;01magent_toolkits\u001B[39;00m\u001B[38;5;21;01m.\u001B[39;00m\u001B[38;5;21;01mcsv\u001B[39;00m\u001B[38;5;21;01m.\u001B[39;00m\u001B[38;5;21;01mbase\u001B[39;00m \u001B[38;5;28;01mimport\u001B[39;00m create_csv_agent\n\u001B[0;32m      7\u001B[0m \u001B[38;5;28;01mfrom\u001B[39;00m \u001B[38;5;21;01mlangchain\u001B[39;00m\u001B[38;5;21;01m.\u001B[39;00m\u001B[38;5;21;01magents\u001B[39;00m\u001B[38;5;21;01m.\u001B[39;00m\u001B[38;5;21;01magent_toolkits\u001B[39;00m\u001B[38;5;21;01m.\u001B[39;00m\u001B[38;5;21;01mfile_management\u001B[39;00m\u001B[38;5;21;01m.\u001B[39;00m\u001B[38;5;21;01mtoolkit\u001B[39;00m \u001B[38;5;28;01mimport\u001B[39;00m (\n\u001B[0;32m      8\u001B[0m     FileManagementToolkit,\n\u001B[0;32m      9\u001B[0m )\n",
      "File \u001B[1;32m~\\AppData\\Local\\Programs\\Python\\Python310\\lib\\site-packages\\langchain\\agents\\agent_toolkits\\azure_cognitive_services\\__init__.py:3\u001B[0m\n\u001B[0;32m      1\u001B[0m \u001B[38;5;124;03m\"\"\"Azure Cognitive Services Toolkit.\"\"\"\u001B[39;00m\n\u001B[1;32m----> 3\u001B[0m \u001B[38;5;28;01mfrom\u001B[39;00m \u001B[38;5;21;01mlangchain\u001B[39;00m\u001B[38;5;21;01m.\u001B[39;00m\u001B[38;5;21;01magents\u001B[39;00m\u001B[38;5;21;01m.\u001B[39;00m\u001B[38;5;21;01magent_toolkits\u001B[39;00m\u001B[38;5;21;01m.\u001B[39;00m\u001B[38;5;21;01mazure_cognitive_services\u001B[39;00m\u001B[38;5;21;01m.\u001B[39;00m\u001B[38;5;21;01mtoolkit\u001B[39;00m \u001B[38;5;28;01mimport\u001B[39;00m (\n\u001B[0;32m      4\u001B[0m     AzureCognitiveServicesToolkit,\n\u001B[0;32m      5\u001B[0m )\n\u001B[0;32m      7\u001B[0m __all__ \u001B[38;5;241m=\u001B[39m [\u001B[38;5;124m\"\u001B[39m\u001B[38;5;124mAzureCognitiveServicesToolkit\u001B[39m\u001B[38;5;124m\"\u001B[39m]\n",
      "File \u001B[1;32m~\\AppData\\Local\\Programs\\Python\\Python310\\lib\\site-packages\\langchain\\agents\\agent_toolkits\\azure_cognitive_services\\toolkit.py:6\u001B[0m\n\u001B[0;32m      3\u001B[0m \u001B[38;5;28;01mimport\u001B[39;00m \u001B[38;5;21;01msys\u001B[39;00m\n\u001B[0;32m      4\u001B[0m \u001B[38;5;28;01mfrom\u001B[39;00m \u001B[38;5;21;01mtyping\u001B[39;00m \u001B[38;5;28;01mimport\u001B[39;00m List\n\u001B[1;32m----> 6\u001B[0m \u001B[38;5;28;01mfrom\u001B[39;00m \u001B[38;5;21;01mlangchain\u001B[39;00m\u001B[38;5;21;01m.\u001B[39;00m\u001B[38;5;21;01magents\u001B[39;00m\u001B[38;5;21;01m.\u001B[39;00m\u001B[38;5;21;01magent_toolkits\u001B[39;00m\u001B[38;5;21;01m.\u001B[39;00m\u001B[38;5;21;01mbase\u001B[39;00m \u001B[38;5;28;01mimport\u001B[39;00m BaseToolkit\n\u001B[0;32m      7\u001B[0m \u001B[38;5;28;01mfrom\u001B[39;00m \u001B[38;5;21;01mlangchain\u001B[39;00m\u001B[38;5;21;01m.\u001B[39;00m\u001B[38;5;21;01mtools\u001B[39;00m\u001B[38;5;21;01m.\u001B[39;00m\u001B[38;5;21;01mazure_cognitive_services\u001B[39;00m \u001B[38;5;28;01mimport\u001B[39;00m (\n\u001B[0;32m      8\u001B[0m     AzureCogsFormRecognizerTool,\n\u001B[0;32m      9\u001B[0m     AzureCogsImageAnalysisTool,\n\u001B[0;32m     10\u001B[0m     AzureCogsSpeech2TextTool,\n\u001B[0;32m     11\u001B[0m     AzureCogsText2SpeechTool,\n\u001B[0;32m     12\u001B[0m )\n\u001B[0;32m     13\u001B[0m \u001B[38;5;28;01mfrom\u001B[39;00m \u001B[38;5;21;01mlangchain\u001B[39;00m\u001B[38;5;21;01m.\u001B[39;00m\u001B[38;5;21;01mtools\u001B[39;00m\u001B[38;5;21;01m.\u001B[39;00m\u001B[38;5;21;01mbase\u001B[39;00m \u001B[38;5;28;01mimport\u001B[39;00m BaseTool\n",
      "File \u001B[1;32m~\\AppData\\Local\\Programs\\Python\\Python310\\lib\\site-packages\\langchain\\agents\\agent_toolkits\\base.py:7\u001B[0m\n\u001B[0;32m      3\u001B[0m \u001B[38;5;28;01mfrom\u001B[39;00m \u001B[38;5;21;01mtyping\u001B[39;00m \u001B[38;5;28;01mimport\u001B[39;00m List\n\u001B[0;32m      5\u001B[0m \u001B[38;5;28;01mfrom\u001B[39;00m \u001B[38;5;21;01mpydantic\u001B[39;00m \u001B[38;5;28;01mimport\u001B[39;00m BaseModel\n\u001B[1;32m----> 7\u001B[0m \u001B[38;5;28;01mfrom\u001B[39;00m \u001B[38;5;21;01mlangchain\u001B[39;00m\u001B[38;5;21;01m.\u001B[39;00m\u001B[38;5;21;01mtools\u001B[39;00m \u001B[38;5;28;01mimport\u001B[39;00m BaseTool\n\u001B[0;32m     10\u001B[0m \u001B[38;5;28;01mclass\u001B[39;00m \u001B[38;5;21;01mBaseToolkit\u001B[39;00m(BaseModel):\n\u001B[0;32m     11\u001B[0m     \u001B[38;5;124;03m\"\"\"Class responsible for defining a collection of related tools.\"\"\"\u001B[39;00m\n",
      "File \u001B[1;32m~\\AppData\\Local\\Programs\\Python\\Python310\\lib\\site-packages\\langchain\\tools\\__init__.py:24\u001B[0m\n\u001B[0;32m     14\u001B[0m \u001B[38;5;28;01mfrom\u001B[39;00m \u001B[38;5;21;01mlangchain\u001B[39;00m\u001B[38;5;21;01m.\u001B[39;00m\u001B[38;5;21;01mtools\u001B[39;00m\u001B[38;5;21;01m.\u001B[39;00m\u001B[38;5;21;01mddg_search\u001B[39;00m\u001B[38;5;21;01m.\u001B[39;00m\u001B[38;5;21;01mtool\u001B[39;00m \u001B[38;5;28;01mimport\u001B[39;00m DuckDuckGoSearchResults, DuckDuckGoSearchRun\n\u001B[0;32m     15\u001B[0m \u001B[38;5;28;01mfrom\u001B[39;00m \u001B[38;5;21;01mlangchain\u001B[39;00m\u001B[38;5;21;01m.\u001B[39;00m\u001B[38;5;21;01mtools\u001B[39;00m\u001B[38;5;21;01m.\u001B[39;00m\u001B[38;5;21;01mfile_management\u001B[39;00m \u001B[38;5;28;01mimport\u001B[39;00m (\n\u001B[0;32m     16\u001B[0m     CopyFileTool,\n\u001B[0;32m     17\u001B[0m     DeleteFileTool,\n\u001B[1;32m   (...)\u001B[0m\n\u001B[0;32m     22\u001B[0m     WriteFileTool,\n\u001B[0;32m     23\u001B[0m )\n\u001B[1;32m---> 24\u001B[0m \u001B[38;5;28;01mfrom\u001B[39;00m \u001B[38;5;21;01mlangchain\u001B[39;00m\u001B[38;5;21;01m.\u001B[39;00m\u001B[38;5;21;01mtools\u001B[39;00m\u001B[38;5;21;01m.\u001B[39;00m\u001B[38;5;21;01mgmail\u001B[39;00m \u001B[38;5;28;01mimport\u001B[39;00m (\n\u001B[0;32m     25\u001B[0m     GmailCreateDraft,\n\u001B[0;32m     26\u001B[0m     GmailGetMessage,\n\u001B[0;32m     27\u001B[0m     GmailGetThread,\n\u001B[0;32m     28\u001B[0m     GmailSearch,\n\u001B[0;32m     29\u001B[0m     GmailSendMessage,\n\u001B[0;32m     30\u001B[0m )\n\u001B[0;32m     31\u001B[0m \u001B[38;5;28;01mfrom\u001B[39;00m \u001B[38;5;21;01mlangchain\u001B[39;00m\u001B[38;5;21;01m.\u001B[39;00m\u001B[38;5;21;01mtools\u001B[39;00m\u001B[38;5;21;01m.\u001B[39;00m\u001B[38;5;21;01mgoogle_places\u001B[39;00m\u001B[38;5;21;01m.\u001B[39;00m\u001B[38;5;21;01mtool\u001B[39;00m \u001B[38;5;28;01mimport\u001B[39;00m GooglePlacesTool\n\u001B[0;32m     32\u001B[0m \u001B[38;5;28;01mfrom\u001B[39;00m \u001B[38;5;21;01mlangchain\u001B[39;00m\u001B[38;5;21;01m.\u001B[39;00m\u001B[38;5;21;01mtools\u001B[39;00m\u001B[38;5;21;01m.\u001B[39;00m\u001B[38;5;21;01mgoogle_search\u001B[39;00m\u001B[38;5;21;01m.\u001B[39;00m\u001B[38;5;21;01mtool\u001B[39;00m \u001B[38;5;28;01mimport\u001B[39;00m GoogleSearchResults, GoogleSearchRun\n",
      "File \u001B[1;32m~\\AppData\\Local\\Programs\\Python\\Python310\\lib\\site-packages\\langchain\\tools\\gmail\\__init__.py:3\u001B[0m\n\u001B[0;32m      1\u001B[0m \u001B[38;5;124;03m\"\"\"Gmail tools.\"\"\"\u001B[39;00m\n\u001B[1;32m----> 3\u001B[0m \u001B[38;5;28;01mfrom\u001B[39;00m \u001B[38;5;21;01mlangchain\u001B[39;00m\u001B[38;5;21;01m.\u001B[39;00m\u001B[38;5;21;01mtools\u001B[39;00m\u001B[38;5;21;01m.\u001B[39;00m\u001B[38;5;21;01mgmail\u001B[39;00m\u001B[38;5;21;01m.\u001B[39;00m\u001B[38;5;21;01mcreate_draft\u001B[39;00m \u001B[38;5;28;01mimport\u001B[39;00m GmailCreateDraft\n\u001B[0;32m      4\u001B[0m \u001B[38;5;28;01mfrom\u001B[39;00m \u001B[38;5;21;01mlangchain\u001B[39;00m\u001B[38;5;21;01m.\u001B[39;00m\u001B[38;5;21;01mtools\u001B[39;00m\u001B[38;5;21;01m.\u001B[39;00m\u001B[38;5;21;01mgmail\u001B[39;00m\u001B[38;5;21;01m.\u001B[39;00m\u001B[38;5;21;01mget_message\u001B[39;00m \u001B[38;5;28;01mimport\u001B[39;00m GmailGetMessage\n\u001B[0;32m      5\u001B[0m \u001B[38;5;28;01mfrom\u001B[39;00m \u001B[38;5;21;01mlangchain\u001B[39;00m\u001B[38;5;21;01m.\u001B[39;00m\u001B[38;5;21;01mtools\u001B[39;00m\u001B[38;5;21;01m.\u001B[39;00m\u001B[38;5;21;01mgmail\u001B[39;00m\u001B[38;5;21;01m.\u001B[39;00m\u001B[38;5;21;01mget_thread\u001B[39;00m \u001B[38;5;28;01mimport\u001B[39;00m GmailGetThread\n",
      "File \u001B[1;32m~\\AppData\\Local\\Programs\\Python\\Python310\\lib\\site-packages\\langchain\\tools\\gmail\\create_draft.py:11\u001B[0m\n\u001B[0;32m      5\u001B[0m \u001B[38;5;28;01mfrom\u001B[39;00m \u001B[38;5;21;01mpydantic\u001B[39;00m \u001B[38;5;28;01mimport\u001B[39;00m BaseModel, Field\n\u001B[0;32m      7\u001B[0m \u001B[38;5;28;01mfrom\u001B[39;00m \u001B[38;5;21;01mlangchain\u001B[39;00m\u001B[38;5;21;01m.\u001B[39;00m\u001B[38;5;21;01mcallbacks\u001B[39;00m\u001B[38;5;21;01m.\u001B[39;00m\u001B[38;5;21;01mmanager\u001B[39;00m \u001B[38;5;28;01mimport\u001B[39;00m (\n\u001B[0;32m      8\u001B[0m     AsyncCallbackManagerForToolRun,\n\u001B[0;32m      9\u001B[0m     CallbackManagerForToolRun,\n\u001B[0;32m     10\u001B[0m )\n\u001B[1;32m---> 11\u001B[0m \u001B[38;5;28;01mfrom\u001B[39;00m \u001B[38;5;21;01mlangchain\u001B[39;00m\u001B[38;5;21;01m.\u001B[39;00m\u001B[38;5;21;01mtools\u001B[39;00m\u001B[38;5;21;01m.\u001B[39;00m\u001B[38;5;21;01mgmail\u001B[39;00m\u001B[38;5;21;01m.\u001B[39;00m\u001B[38;5;21;01mbase\u001B[39;00m \u001B[38;5;28;01mimport\u001B[39;00m GmailBaseTool\n\u001B[0;32m     14\u001B[0m \u001B[38;5;28;01mclass\u001B[39;00m \u001B[38;5;21;01mCreateDraftSchema\u001B[39;00m(BaseModel):\n\u001B[0;32m     15\u001B[0m     message: \u001B[38;5;28mstr\u001B[39m \u001B[38;5;241m=\u001B[39m Field(\n\u001B[0;32m     16\u001B[0m         \u001B[38;5;241m.\u001B[39m\u001B[38;5;241m.\u001B[39m\u001B[38;5;241m.\u001B[39m,\n\u001B[0;32m     17\u001B[0m         description\u001B[38;5;241m=\u001B[39m\u001B[38;5;124m\"\u001B[39m\u001B[38;5;124mThe message to include in the draft.\u001B[39m\u001B[38;5;124m\"\u001B[39m,\n\u001B[0;32m     18\u001B[0m     )\n",
      "File \u001B[1;32m~\\AppData\\Local\\Programs\\Python\\Python310\\lib\\site-packages\\langchain\\tools\\gmail\\base.py:17\u001B[0m\n\u001B[0;32m     14\u001B[0m \u001B[38;5;28;01melse\u001B[39;00m:\n\u001B[0;32m     15\u001B[0m     \u001B[38;5;28;01mtry\u001B[39;00m:\n\u001B[0;32m     16\u001B[0m         \u001B[38;5;66;03m# We do this so pydantic can resolve the types when instantiating\u001B[39;00m\n\u001B[1;32m---> 17\u001B[0m         \u001B[38;5;28;01mfrom\u001B[39;00m \u001B[38;5;21;01mgoogleapiclient\u001B[39;00m\u001B[38;5;21;01m.\u001B[39;00m\u001B[38;5;21;01mdiscovery\u001B[39;00m \u001B[38;5;28;01mimport\u001B[39;00m Resource\n\u001B[0;32m     18\u001B[0m     \u001B[38;5;28;01mexcept\u001B[39;00m \u001B[38;5;167;01mImportError\u001B[39;00m:\n\u001B[0;32m     19\u001B[0m         \u001B[38;5;28;01mpass\u001B[39;00m\n",
      "File \u001B[1;32m~\\AppData\\Local\\Programs\\Python\\Python310\\lib\\site-packages\\googleapiclient\\discovery.py:55\u001B[0m\n\u001B[0;32m     52\u001B[0m     google_auth_httplib2 \u001B[38;5;241m=\u001B[39m \u001B[38;5;28;01mNone\u001B[39;00m\n\u001B[0;32m     54\u001B[0m \u001B[38;5;66;03m# Local imports\u001B[39;00m\n\u001B[1;32m---> 55\u001B[0m \u001B[38;5;28;01mfrom\u001B[39;00m \u001B[38;5;21;01mgoogleapiclient\u001B[39;00m \u001B[38;5;28;01mimport\u001B[39;00m _auth\n\u001B[0;32m     56\u001B[0m \u001B[38;5;28;01mfrom\u001B[39;00m \u001B[38;5;21;01mgoogleapiclient\u001B[39;00m \u001B[38;5;28;01mimport\u001B[39;00m mimeparse\n\u001B[0;32m     57\u001B[0m \u001B[38;5;28;01mfrom\u001B[39;00m \u001B[38;5;21;01mgoogleapiclient\u001B[39;00m\u001B[38;5;21;01m.\u001B[39;00m\u001B[38;5;21;01merrors\u001B[39;00m \u001B[38;5;28;01mimport\u001B[39;00m HttpError\n",
      "File \u001B[1;32m~\\AppData\\Local\\Programs\\Python\\Python310\\lib\\site-packages\\googleapiclient\\_auth.py:34\u001B[0m\n\u001B[0;32m     32\u001B[0m \u001B[38;5;28;01mtry\u001B[39;00m:\n\u001B[0;32m     33\u001B[0m     \u001B[38;5;28;01mimport\u001B[39;00m \u001B[38;5;21;01moauth2client\u001B[39;00m\n\u001B[1;32m---> 34\u001B[0m     \u001B[38;5;28;01mimport\u001B[39;00m \u001B[38;5;21;01moauth2client\u001B[39;00m\u001B[38;5;21;01m.\u001B[39;00m\u001B[38;5;21;01mclient\u001B[39;00m\n\u001B[0;32m     36\u001B[0m     HAS_OAUTH2CLIENT \u001B[38;5;241m=\u001B[39m \u001B[38;5;28;01mTrue\u001B[39;00m\n\u001B[0;32m     37\u001B[0m \u001B[38;5;28;01mexcept\u001B[39;00m \u001B[38;5;167;01mImportError\u001B[39;00m:  \u001B[38;5;66;03m# pragma: NO COVER\u001B[39;00m\n",
      "File \u001B[1;32m~\\AppData\\Local\\Programs\\Python\\Python310\\lib\\site-packages\\oauth2client\\client.py:45\u001B[0m\n\u001B[0;32m     43\u001B[0m HAS_CRYPTO \u001B[38;5;241m=\u001B[39m \u001B[38;5;28;01mFalse\u001B[39;00m\n\u001B[0;32m     44\u001B[0m \u001B[38;5;28;01mtry\u001B[39;00m:\n\u001B[1;32m---> 45\u001B[0m     \u001B[38;5;28;01mfrom\u001B[39;00m \u001B[38;5;21;01moauth2client\u001B[39;00m \u001B[38;5;28;01mimport\u001B[39;00m crypt\n\u001B[0;32m     46\u001B[0m     HAS_CRYPTO \u001B[38;5;241m=\u001B[39m \u001B[38;5;28;01mTrue\u001B[39;00m\n\u001B[0;32m     47\u001B[0m     HAS_OPENSSL \u001B[38;5;241m=\u001B[39m crypt\u001B[38;5;241m.\u001B[39mOpenSSLVerifier \u001B[38;5;129;01mis\u001B[39;00m \u001B[38;5;129;01mnot\u001B[39;00m \u001B[38;5;28;01mNone\u001B[39;00m\n",
      "File \u001B[1;32m~\\AppData\\Local\\Programs\\Python\\Python310\\lib\\site-packages\\oauth2client\\crypt.py:45\u001B[0m\n\u001B[0;32m     41\u001B[0m     \u001B[38;5;28;01mraise\u001B[39;00m \u001B[38;5;167;01mNotImplementedError\u001B[39;00m(\u001B[38;5;124m'\u001B[39m\u001B[38;5;124mpkcs12_key_as_pem requires OpenSSL.\u001B[39m\u001B[38;5;124m'\u001B[39m)\n\u001B[0;32m     44\u001B[0m \u001B[38;5;28;01mtry\u001B[39;00m:\n\u001B[1;32m---> 45\u001B[0m     \u001B[38;5;28;01mfrom\u001B[39;00m \u001B[38;5;21;01moauth2client\u001B[39;00m \u001B[38;5;28;01mimport\u001B[39;00m _openssl_crypt\n\u001B[0;32m     46\u001B[0m     OpenSSLSigner \u001B[38;5;241m=\u001B[39m _openssl_crypt\u001B[38;5;241m.\u001B[39mOpenSSLSigner\n\u001B[0;32m     47\u001B[0m     OpenSSLVerifier \u001B[38;5;241m=\u001B[39m _openssl_crypt\u001B[38;5;241m.\u001B[39mOpenSSLVerifier\n",
      "File \u001B[1;32m~\\AppData\\Local\\Programs\\Python\\Python310\\lib\\site-packages\\oauth2client\\_openssl_crypt.py:16\u001B[0m\n\u001B[0;32m      1\u001B[0m \u001B[38;5;66;03m# Copyright 2015 Google Inc. All rights reserved.\u001B[39;00m\n\u001B[0;32m      2\u001B[0m \u001B[38;5;66;03m#\u001B[39;00m\n\u001B[0;32m      3\u001B[0m \u001B[38;5;66;03m# Licensed under the Apache License, Version 2.0 (the \"License\");\u001B[39;00m\n\u001B[1;32m   (...)\u001B[0m\n\u001B[0;32m     12\u001B[0m \u001B[38;5;66;03m# See the License for the specific language governing permissions and\u001B[39;00m\n\u001B[0;32m     13\u001B[0m \u001B[38;5;66;03m# limitations under the License.\u001B[39;00m\n\u001B[0;32m     14\u001B[0m \u001B[38;5;124;03m\"\"\"OpenSSL Crypto-related routines for oauth2client.\"\"\"\u001B[39;00m\n\u001B[1;32m---> 16\u001B[0m \u001B[38;5;28;01mfrom\u001B[39;00m \u001B[38;5;21;01mOpenSSL\u001B[39;00m \u001B[38;5;28;01mimport\u001B[39;00m crypto\n\u001B[0;32m     18\u001B[0m \u001B[38;5;28;01mfrom\u001B[39;00m \u001B[38;5;21;01moauth2client\u001B[39;00m \u001B[38;5;28;01mimport\u001B[39;00m _helpers\n\u001B[0;32m     21\u001B[0m \u001B[38;5;28;01mclass\u001B[39;00m \u001B[38;5;21;01mOpenSSLVerifier\u001B[39;00m(\u001B[38;5;28mobject\u001B[39m):\n",
      "File \u001B[1;32m~\\AppData\\Local\\Programs\\Python\\Python310\\lib\\site-packages\\OpenSSL\\__init__.py:8\u001B[0m\n\u001B[0;32m      1\u001B[0m \u001B[38;5;66;03m# Copyright (C) AB Strakt\u001B[39;00m\n\u001B[0;32m      2\u001B[0m \u001B[38;5;66;03m# See LICENSE for details.\u001B[39;00m\n\u001B[0;32m      4\u001B[0m \u001B[38;5;124;03m\"\"\"\u001B[39;00m\n\u001B[0;32m      5\u001B[0m \u001B[38;5;124;03mpyOpenSSL - A simple wrapper around the OpenSSL library\u001B[39;00m\n\u001B[0;32m      6\u001B[0m \u001B[38;5;124;03m\"\"\"\u001B[39;00m\n\u001B[1;32m----> 8\u001B[0m \u001B[38;5;28;01mfrom\u001B[39;00m \u001B[38;5;21;01mOpenSSL\u001B[39;00m \u001B[38;5;28;01mimport\u001B[39;00m crypto, SSL\n\u001B[0;32m      9\u001B[0m \u001B[38;5;28;01mfrom\u001B[39;00m \u001B[38;5;21;01mOpenSSL\u001B[39;00m\u001B[38;5;21;01m.\u001B[39;00m\u001B[38;5;21;01mversion\u001B[39;00m \u001B[38;5;28;01mimport\u001B[39;00m (\n\u001B[0;32m     10\u001B[0m     __author__,\n\u001B[0;32m     11\u001B[0m     __copyright__,\n\u001B[1;32m   (...)\u001B[0m\n\u001B[0;32m     17\u001B[0m     __version__,\n\u001B[0;32m     18\u001B[0m )\n\u001B[0;32m     21\u001B[0m __all__ \u001B[38;5;241m=\u001B[39m [\n\u001B[0;32m     22\u001B[0m     \u001B[38;5;124m\"\u001B[39m\u001B[38;5;124mSSL\u001B[39m\u001B[38;5;124m\"\u001B[39m,\n\u001B[0;32m     23\u001B[0m     \u001B[38;5;124m\"\u001B[39m\u001B[38;5;124mcrypto\u001B[39m\u001B[38;5;124m\"\u001B[39m,\n\u001B[1;32m   (...)\u001B[0m\n\u001B[0;32m     31\u001B[0m     \u001B[38;5;124m\"\u001B[39m\u001B[38;5;124m__version__\u001B[39m\u001B[38;5;124m\"\u001B[39m,\n\u001B[0;32m     32\u001B[0m ]\n",
      "File \u001B[1;32m~\\AppData\\Local\\Programs\\Python\\Python310\\lib\\site-packages\\OpenSSL\\crypto.py:1556\u001B[0m\n\u001B[0;32m   1552\u001B[0m         ext\u001B[38;5;241m.\u001B[39m_extension \u001B[38;5;241m=\u001B[39m _ffi\u001B[38;5;241m.\u001B[39mgc(extension, _lib\u001B[38;5;241m.\u001B[39mX509_EXTENSION_free)\n\u001B[0;32m   1553\u001B[0m         \u001B[38;5;28;01mreturn\u001B[39;00m ext\n\u001B[1;32m-> 1556\u001B[0m \u001B[38;5;28;01mclass\u001B[39;00m \u001B[38;5;21;01mX509StoreFlags\u001B[39;00m(\u001B[38;5;28mobject\u001B[39m):\n\u001B[0;32m   1557\u001B[0m     \u001B[38;5;124;03m\"\"\"\u001B[39;00m\n\u001B[0;32m   1558\u001B[0m \u001B[38;5;124;03m    Flags for X509 verification, used to change the behavior of\u001B[39;00m\n\u001B[0;32m   1559\u001B[0m \u001B[38;5;124;03m    :class:`X509Store`.\u001B[39;00m\n\u001B[1;32m   (...)\u001B[0m\n\u001B[0;32m   1564\u001B[0m \u001B[38;5;124;03m        https://www.openssl.org/docs/manmaster/man3/X509_VERIFY_PARAM_set_flags.html\u001B[39;00m\n\u001B[0;32m   1565\u001B[0m \u001B[38;5;124;03m    \"\"\"\u001B[39;00m\n\u001B[0;32m   1567\u001B[0m     CRL_CHECK \u001B[38;5;241m=\u001B[39m _lib\u001B[38;5;241m.\u001B[39mX509_V_FLAG_CRL_CHECK\n",
      "File \u001B[1;32m~\\AppData\\Local\\Programs\\Python\\Python310\\lib\\site-packages\\OpenSSL\\crypto.py:1577\u001B[0m, in \u001B[0;36mX509StoreFlags\u001B[1;34m()\u001B[0m\n\u001B[0;32m   1575\u001B[0m NOTIFY_POLICY \u001B[38;5;241m=\u001B[39m _lib\u001B[38;5;241m.\u001B[39mX509_V_FLAG_NOTIFY_POLICY\n\u001B[0;32m   1576\u001B[0m CHECK_SS_SIGNATURE \u001B[38;5;241m=\u001B[39m _lib\u001B[38;5;241m.\u001B[39mX509_V_FLAG_CHECK_SS_SIGNATURE\n\u001B[1;32m-> 1577\u001B[0m CB_ISSUER_CHECK \u001B[38;5;241m=\u001B[39m \u001B[43m_lib\u001B[49m\u001B[38;5;241;43m.\u001B[39;49m\u001B[43mX509_V_FLAG_CB_ISSUER_CHECK\u001B[49m\n",
      "\u001B[1;31mAttributeError\u001B[0m: module 'lib' has no attribute 'X509_V_FLAG_CB_ISSUER_CHECK'"
     ]
    }
   ],
   "source": [
    "# import and install the libraries\n",
    "from PyPDF2 import PdfReader\n",
    "from langchain import OpenAI\n",
    "from langchain.document_loaders import TextLoader, PyPDFLoader\n",
    "from langchain.embeddings import OpenAIEmbeddings, CohereEmbeddings\n",
    "from langchain.text_splitter import CharacterTextSplitter\n",
    "from langchain.vectorstores import Chroma\n",
    "from langchain.memory import ConversationBufferMemory\n",
    "from langchain.chains import ConversationalRetrievalChain\n",
    "import streamlit as st\n",
    "from streamlit_chat import message\n",
    "from langchain import Cohere\n",
    "import os\n",
    "from langchain.prompts import PromptTemplate"
   ],
   "metadata": {
    "collapsed": false,
    "pycharm": {
     "name": "#%%\n"
    }
   }
  },
  {
   "cell_type": "code",
   "execution_count": null,
   "outputs": [],
   "source": [
    "# this function creates or overwrites a file\n",
    "#overwrites in the following manner\n",
    "# 1. llm_name\n",
    "# 2. llm_key\n",
    "# 3. text of the file uploaded\n",
    "\n",
    "def append_to_file(file_path, llm, api, text):\n",
    "    try:\n",
    "        with open(file_path, 'w', encoding=\"utf-8\") as file:\n",
    "            file.write(str(llm) + '^' + api + '^' + text + '^')\n",
    "        print(\"Parameters appended to the file successfully.\")\n",
    "    except IOError:\n",
    "        print(\"An error occurred while appending parameters to the file.\")"
   ],
   "metadata": {
    "collapsed": false,
    "pycharm": {
     "name": "#%%\n"
    }
   }
  },
  {
   "cell_type": "code",
   "execution_count": null,
   "outputs": [],
   "source": [
    "# this function checks if the given input file is of pdf or text format\n",
    "# and extracts text based on type of document\n",
    "\n",
    "def read_and_print_file(file):\n",
    "    # if file is pdf\n",
    "    if uploaded_file.type == 'application/pdf':\n",
    "        pdf_reader = PdfReader(file)\n",
    "        num_pages = len(pdf_reader.pages)\n",
    "        #appends to string called text\n",
    "        text = \"\"\n",
    "        for page in range(num_pages):\n",
    "            text += pdf_reader.pages[page].extract_text()\n",
    "        return text\n",
    "    # if file is text\n",
    "    elif uploaded_file.type == 'text/plain':\n",
    "        return file.read().decode('utf-8')\n",
    "    else:\n",
    "        return 'Unsupported file format. Only PDF and text files are accepted.'"
   ],
   "metadata": {
    "collapsed": false,
    "pycharm": {
     "name": "#%%\n"
    }
   }
  },
  {
   "cell_type": "code",
   "execution_count": null,
   "outputs": [],
   "source": [
    "# This code is the main function in Page 1 (main.py)\n",
    "# Page title\n",
    "st.set_page_config(page_title='Chatbot - Private Docs')\n",
    "st.title('Chatbot - Private Docs')\n",
    "\n",
    "with st.form('story_form', clear_on_submit=False):\n",
    "    #uploads a file here\n",
    "    uploaded_file = st.file_uploader(\"Choose a Text/PDF file\", type=['pdf', 'txt'], accept_multiple_files=False)\n",
    "\n",
    "    with st.sidebar:\n",
    "        #select type of llm and key\n",
    "        llm_name = st.radio('Select LLM type: ', ('OpenAI', 'Cohere'))\n",
    "        api_key = st.text_input('LLM API Key', type='password')\n",
    "        submitted = st.form_submit_button('Submit')\n",
    "\n",
    "# validates key and submit button and writes in the file and creates a markdownto go to page 2\n",
    "if (submitted and api_key.startswith('4a')) or (submitted and api_key.startswith('sk-') and uploaded_file != ''):\n",
    "    with st.spinner('Calculating...'):\n",
    "        append_to_file('pages/file.txt', llm_name, api_key, read_and_print_file(uploaded_file))\n",
    "        st.markdown('<a href=\"/QA_Page\" target=\"_self\">Go to Chat -></a>', unsafe_allow_html=True)\n"
   ],
   "metadata": {
    "collapsed": false,
    "pycharm": {
     "name": "#%%\n"
    }
   }
  },
  {
   "cell_type": "markdown",
   "source": [
    "## The below code is for Page 2 (2_QA_Page.py)"
   ],
   "metadata": {
    "collapsed": false,
    "pycharm": {
     "name": "#%% md\n"
    }
   }
  },
  {
   "cell_type": "code",
   "execution_count": null,
   "outputs": [],
   "source": [
    "# this function writes to a file text to file_path\n",
    "def append_to_file(file_path, text):\n",
    "    try:\n",
    "        with open(file_path, 'w', encoding=\"utf-8\") as file:\n",
    "            file.write(str(text))\n",
    "        print(\"Parameters appended to the file successfully.\")\n",
    "    except IOError:\n",
    "        print(\"An error occurred while appending parameters to the file.\")\n"
   ],
   "metadata": {
    "collapsed": false,
    "pycharm": {
     "name": "#%%\n"
    }
   }
  },
  {
   "cell_type": "code",
   "execution_count": null,
   "outputs": [],
   "source": [
    "#this function reads from the file and returns the string as response\n",
    "def read_file(file_path):\n",
    "    with open(file_path, 'r', encoding=\"utf-8\") as file:\n",
    "        response = file.read()\n",
    "        return response"
   ],
   "metadata": {
    "collapsed": false,
    "pycharm": {
     "name": "#%%\n"
    }
   }
  },
  {
   "cell_type": "code",
   "execution_count": null,
   "outputs": [],
   "source": [
    "# this method is used to refine the query based on previous context\n",
    "def query_refiner(conversation, query, llm, api):\n",
    "    # set llm\n",
    "    if llm == 'Cohere':\n",
    "        llm_main = Cohere(cohere_api_key=api)\n",
    "    else:\n",
    "        llm_main = OpenAI(temperature=0)\n",
    "\n",
    "    #prompt\n",
    "    file = '\\nCONVERSATION:\\n' + conversation + '\\nQUERY:\\n' + query\n",
    "    template = \"\"\"The following text contains 2 parts, that is the previous conversations between \\\n",
    "    human and bot and current query. The query might be incomplete as it is a conversation with context. \\\n",
    "    Your task is to reconstruct the query into a more meaningful question that is related to the previous context. \\\n",
    "    If the conversation is blank or the query is already good , just keep the input query same. \\\n",
    "    Text: {file}\"\"\"\n",
    "    prompt = PromptTemplate(input_variables=[\"file\"],\n",
    "                            template=template)\n",
    "    prompt_temp = prompt.format(file=file)\n",
    "    query_new = llm_main(prompt_temp)\n",
    "    return query_new.strip()"
   ],
   "metadata": {
    "collapsed": false,
    "pycharm": {
     "name": "#%%\n"
    }
   }
  },
  {
   "cell_type": "code",
   "execution_count": null,
   "outputs": [],
   "source": [
    "# this function reads the file and splits it based on '^' symbol\n",
    "def splitter(response):\n",
    "    llm = (response.split('^')[0])\n",
    "    api = (response.split('^')[1])\n",
    "    file = (response.split('^')[2])\n",
    "    return llm, api, file"
   ],
   "metadata": {
    "collapsed": false,
    "pycharm": {
     "name": "#%%\n"
    }
   }
  },
  {
   "cell_type": "code",
   "execution_count": null,
   "outputs": [],
   "source": [
    "# this function is used to create embeddings from the given file and upload it to cromadb\n",
    "# we also set conversationbuffermemory to chat history here\n",
    "\n",
    "def get_embeddings(documents, llm, api):\n",
    "    if documents != '':\n",
    "        if llm == 'OpenAI':\n",
    "            os.environ[\"OPENAI_API_KEY\"] = api\n",
    "            text_splitter = CharacterTextSplitter(chunk_size=1000, chunk_overlap=0)\n",
    "            documents = text_splitter.split_documents(documents)\n",
    "            #create embeddings on OpenAI\n",
    "            embeddings = OpenAIEmbeddings()\n",
    "            # store in chromadb\n",
    "            vectorstore = Chroma.from_documents(documents, embeddings)\n",
    "            # set memory of chain\n",
    "            memory = ConversationBufferMemory(memory_key=\"chat_history\", return_messages=True)\n",
    "            qa2 = ConversationalRetrievalChain.from_llm(OpenAI(temperature=0.6), vectorstore.as_retriever(),\n",
    "                                                        memory=memory)\n",
    "            return qa2\n",
    "        else:\n",
    "            text_splitter = CharacterTextSplitter(chunk_size=1000, chunk_overlap=0)\n",
    "            documents = text_splitter.split_documents(documents)\n",
    "            #create embeddings on Cohere\n",
    "            embeddings = CohereEmbeddings(cohere_api_key=api)\n",
    "            #store in chromadb\n",
    "            vectorstore = Chroma.from_documents(documents, embeddings)\n",
    "            # set memory of chain\n",
    "            memory = ConversationBufferMemory(memory_key=\"chat_history\", return_messages=True)\n",
    "            qa2 = ConversationalRetrievalChain.from_llm(Cohere(cohere_api_key=api), vectorstore.as_retriever(),\n",
    "                                                        memory=memory)\n",
    "            return qa2"
   ],
   "metadata": {
    "collapsed": false,
    "pycharm": {
     "name": "#%%\n"
    }
   }
  },
  {
   "cell_type": "code",
   "execution_count": null,
   "outputs": [],
   "source": [
    "# this function loads the file and loads the text\n",
    "def file_loader(filename):\n",
    "    if '.txt' in filename:\n",
    "        loader = TextLoader(r\"filename\", encoding=\"utf-8\")\n",
    "        documents = loader.load()\n",
    "        return documents\n",
    "    else:\n",
    "        return ''"
   ],
   "metadata": {
    "collapsed": false,
    "pycharm": {
     "name": "#%%\n"
    }
   }
  },
  {
   "cell_type": "code",
   "execution_count": null,
   "outputs": [],
   "source": [
    "# this function gets the query from user\n",
    "def get_text():\n",
    "    input_text = st.text_input(\"Query: \", \"\", key=\"input\")\n",
    "    return input_text"
   ],
   "metadata": {
    "collapsed": false,
    "pycharm": {
     "name": "#%%\n"
    }
   }
  },
  {
   "cell_type": "code",
   "execution_count": null,
   "outputs": [],
   "source": [
    "#this is the main function of Page 2\n",
    "\n",
    "# Page title\n",
    "st.set_page_config(page_title=\"Chatbot - Private Docs\", page_icon=\":robot:\")\n",
    "st.header(\"Chatbot - Private Docs\")\n",
    "\n",
    "#extract llm, api and text\n",
    "llm, api, text = splitter(read_file('pages/file.txt'))\n",
    "append_to_file('pages/tempfile.txt', text)\n",
    "\n",
    "# load text\n",
    "docs = TextLoader(r\"pages/tempfile.txt\", encoding=\"utf-8\").load()\n",
    "\n",
    "# get embeddings\n",
    "qa = get_embeddings(docs, llm, api)\n",
    "\n",
    "#empty string to store conversations\n",
    "conversation_str = \"\"\n",
    "\n",
    "if \"generated\" not in st.session_state:\n",
    "    st.session_state[\"generated\"] = []\n",
    "\n",
    "if \"past\" not in st.session_state:\n",
    "    st.session_state[\"past\"] = []\n",
    "\n",
    "# refine the query\n",
    "query = get_text()\n",
    "result = qa({\"question\": query_refiner(conversation_str, text, query, llm, api)})\n",
    "\n",
    "if query:\n",
    "    # append it to the conversation string\n",
    "    conversation_str = conversation_str + '\\nHuman: ' + result['question']\n",
    "    conversation_str = conversation_str + '\\nBot: ' + result['answer']\n",
    "    st.session_state.past.append(result['question'])\n",
    "    st.session_state.generated.append(result['answer'])\n",
    "\n",
    "if st.session_state[\"generated\"]:\n",
    "    #display in streamlit chat interface\n",
    "    for i in range(len(st.session_state[\"generated\"]) - 1, -1, -1):\n",
    "        message(st.session_state[\"generated\"][i], key=str(i))\n",
    "        message(st.session_state[\"past\"][i], is_user=True, key=str(i) + \"_user\")\n"
   ],
   "metadata": {
    "collapsed": false,
    "pycharm": {
     "name": "#%%\n"
    }
   }
  }
 ],
 "metadata": {
  "kernelspec": {
   "display_name": "Python 3",
   "language": "python",
   "name": "python3"
  },
  "language_info": {
   "codemirror_mode": {
    "name": "ipython",
    "version": 2
   },
   "file_extension": ".py",
   "mimetype": "text/x-python",
   "name": "python",
   "nbconvert_exporter": "python",
   "pygments_lexer": "ipython2",
   "version": "2.7.6"
  }
 },
 "nbformat": 4,
 "nbformat_minor": 0
}